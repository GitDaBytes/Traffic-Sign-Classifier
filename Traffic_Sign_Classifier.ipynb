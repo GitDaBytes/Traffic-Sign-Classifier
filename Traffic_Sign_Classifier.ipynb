{
 "cells": [
  {
   "cell_type": "markdown",
   "metadata": {},
   "source": [
    "# Self-Driving Car Engineer Nanodegree\n",
    "\n",
    "## Deep Learning\n",
    "\n",
    "## Project: Build a Traffic Sign Recognition Classifier\n",
    "\n",
    "In this notebook, a template is provided for you to implement your functionality in stages, which is required to successfully complete this project. If additional code is required that cannot be included in the notebook, be sure that the Python code is successfully imported and included in your submission if necessary. \n",
    "\n",
    "> **Note**: Once you have completed all of the code implementations, you need to finalize your work by exporting the iPython Notebook as an HTML document. Before exporting the notebook to html, all of the code cells need to have been run so that reviewers can see the final implementation and output. You can then export the notebook by using the menu above and navigating to  \\n\",\n",
    "    \"**File -> Download as -> HTML (.html)**. Include the finished document along with this notebook as your submission. \n",
    "\n",
    "In addition to implementing code, there is a writeup to complete. The writeup should be completed in a separate file, which can be either a markdown file or a pdf document. There is a [write up template](https://github.com/udacity/CarND-Traffic-Sign-Classifier-Project/blob/master/writeup_template.md) that can be used to guide the writing process. Completing the code template and writeup template will cover all of the [rubric points](https://review.udacity.com/#!/rubrics/481/view) for this project.\n",
    "\n",
    "The [rubric](https://review.udacity.com/#!/rubrics/481/view) contains \"Stand Out Suggestions\" for enhancing the project beyond the minimum requirements. The stand out suggestions are optional. If you decide to pursue the \"stand out suggestions\", you can include the code in this Ipython notebook and also discuss the results in the writeup file.\n",
    "\n",
    "\n",
    ">**Note:** Code and Markdown cells can be executed using the **Shift + Enter** keyboard shortcut. In addition, Markdown cells can be edited by typically double-clicking the cell to enter edit mode."
   ]
  },
  {
   "cell_type": "markdown",
   "metadata": {},
   "source": [
    "---\n",
    "## Step 0: Load The Data"
   ]
  },
  {
   "cell_type": "code",
   "execution_count": 1,
   "metadata": {
    "collapsed": true
   },
   "outputs": [],
   "source": [
    "# Load pickled data\n",
    "import pickle\n",
    "\n",
    "# TODO: Fill this in based on where you saved the training and testing data\n",
    "\n",
    "training_file = 'train.p'\n",
    "validation_file = 'valid.p'\n",
    "testing_file = 'test.p'\n",
    "\n",
    "with open(training_file, mode='rb') as f:\n",
    "    train = pickle.load(f)\n",
    "with open(validation_file, mode='rb') as f:\n",
    "    valid = pickle.load(f)\n",
    "with open(testing_file, mode='rb') as f:\n",
    "    test = pickle.load(f)\n",
    "    \n",
    "X_train, y_train = train['features'], train['labels']\n",
    "X_validation, y_validation = valid['features'], valid['labels']\n",
    "X_test, y_test = test['features'], test['labels']"
   ]
  },
  {
   "cell_type": "markdown",
   "metadata": {},
   "source": [
    "---\n",
    "\n",
    "## Step 1: Dataset Summary & Exploration\n",
    "\n",
    "The pickled data is a dictionary with 4 key/value pairs:\n",
    "\n",
    "- `'features'` is a 4D array containing raw pixel data of the traffic sign images, (num examples, width, height, channels).\n",
    "- `'labels'` is a 1D array containing the label/class id of the traffic sign. The file `signnames.csv` contains id -> name mappings for each id.\n",
    "- `'sizes'` is a list containing tuples, (width, height) representing the original width and height the image.\n",
    "- `'coords'` is a list containing tuples, (x1, y1, x2, y2) representing coordinates of a bounding box around the sign in the image. **THESE COORDINATES ASSUME THE ORIGINAL IMAGE. THE PICKLED DATA CONTAINS RESIZED VERSIONS (32 by 32) OF THESE IMAGES**\n",
    "\n",
    "Complete the basic data summary below. Use python, numpy and/or pandas methods to calculate the data summary rather than hard coding the results. For example, the [pandas shape method](http://pandas.pydata.org/pandas-docs/stable/generated/pandas.DataFrame.shape.html) might be useful for calculating some of the summary results. "
   ]
  },
  {
   "cell_type": "markdown",
   "metadata": {},
   "source": [
    "### Provide a Basic Summary of the Data Set Using Python, Numpy and/or Pandas"
   ]
  },
  {
   "cell_type": "code",
   "execution_count": 2,
   "metadata": {
    "scrolled": true
   },
   "outputs": [
    {
     "name": "stdout",
     "output_type": "stream",
     "text": [
      "Number of training examples = 34799\n",
      "Number of testing examples = 12630\n",
      "Number of validation examples = 4410\n",
      "Image data shape = (32, 32)\n",
      "Number of classes = 43\n"
     ]
    }
   ],
   "source": [
    "### Replace each question mark with the appropriate value. \n",
    "### Use python, pandas or numpy methods rather than hard coding the results\n",
    "\n",
    "# TODO: Number of training examples\n",
    "n_train = X_train.shape[0]\n",
    "\n",
    "# TODO: Number of validation examples\n",
    "n_validation = X_validation.shape[0]\n",
    "\n",
    "# TODO: Number of testing examples.\n",
    "n_test = X_test.shape[0]\n",
    "\n",
    "# TODO: What's the shape of an traffic sign image?\n",
    "image_shape = X_test.shape[1:3]\n",
    "\n",
    "# TODO: How many unique classes/labels there are in the dataset.\n",
    "n_classes = len(set(y_train))\n",
    "\n",
    "print(\"Number of training examples =\", n_train)\n",
    "print(\"Number of testing examples =\", n_test)\n",
    "print(\"Number of validation examples =\", n_validation)\n",
    "print(\"Image data shape =\", image_shape)\n",
    "print(\"Number of classes =\", n_classes)"
   ]
  },
  {
   "cell_type": "markdown",
   "metadata": {},
   "source": [
    "### Include an exploratory visualization of the dataset"
   ]
  },
  {
   "cell_type": "markdown",
   "metadata": {},
   "source": [
    "Visualize the German Traffic Signs Dataset using the pickled file(s). This is open ended, suggestions include: plotting traffic sign images, plotting the count of each sign, etc. \n",
    "\n",
    "The [Matplotlib](http://matplotlib.org/) [examples](http://matplotlib.org/examples/index.html) and [gallery](http://matplotlib.org/gallery.html) pages are a great resource for doing visualizations in Python.\n",
    "\n",
    "**NOTE:** It's recommended you start with something simple first. If you wish to do more, come back to it after you've completed the rest of the sections. It can be interesting to look at the distribution of classes in the training, validation and test set. Is the distribution the same? Are there more examples of some classes than others?"
   ]
  },
  {
   "cell_type": "code",
   "execution_count": 3,
   "metadata": {
    "collapsed": true
   },
   "outputs": [],
   "source": [
    "### Data exploration visualization code goes here.\n",
    "### Feel free to use as many code cells as needed.\n",
    "import matplotlib.pyplot as plt\n",
    "# Visualizations will be shown in the notebook.\n",
    "%matplotlib inline"
   ]
  },
  {
   "cell_type": "code",
   "execution_count": 4,
   "metadata": {},
   "outputs": [
    {
     "data": {
      "image/png": "[encoded data removed]",
      "text/plain": [
       "<matplotlib.figure.Figure at 0x123002b8b38>"
      ]
     },
     "metadata": {},
     "output_type": "display_data"
    }
   ],
   "source": [
    "import collections as c\n",
    "import numpy as np\n",
    "\n",
    "%matplotlib inline\n",
    "\n",
    "# check count of each sign\n",
    "labels, values = zip(*c.Counter(y_train).items())\n",
    "\n",
    "indexes = np.arange(len(labels))\n",
    "width = 1\n",
    "\n",
    "plt.bar(indexes, values, width)\n",
    "plt.xticks(indexes + width * 0.5, labels)\n",
    "plt.show()\n"
   ]
  },
  {
   "cell_type": "code",
   "execution_count": 5,
   "metadata": {},
   "outputs": [
    {
     "name": "stdout",
     "output_type": "stream",
     "text": [
      "31\n"
     ]
    },
    {
     "data": {
      "image/png": "[encoded data removed]",
      "text/plain": [
       "<matplotlib.figure.Figure at 0x123009c3828>"
      ]
     },
     "metadata": {},
     "output_type": "display_data"
    }
   ],
   "source": [
    "from random import randint\n",
    "\n",
    "%matplotlib inline\n",
    "\n",
    "index = randint(0, len(X_train))\n",
    "image = X_train[index].squeeze()\n",
    "\n",
    "plt.figure(figsize=(1,1))\n",
    "plt.imshow(image)\n",
    "print(y_train[index])"
   ]
  },
  {
   "cell_type": "markdown",
   "metadata": {},
   "source": [
    "----\n",
    "\n",
    "## Step 2: Design and Test a Model Architecture\n",
    "\n",
    "Design and implement a deep learning model that learns to recognize traffic signs. Train and test your model on the [German Traffic Sign Dataset](http://benchmark.ini.rub.de/?section=gtsrb&subsection=dataset).\n",
    "\n",
    "The LeNet-5 implementation shown in the [classroom](https://classroom.udacity.com/nanodegrees/nd013/parts/fbf77062-5703-404e-b60c-95b78b2f3f9e/modules/6df7ae49-c61c-4bb2-a23e-6527e69209ec/lessons/601ae704-1035-4287-8b11-e2c2716217ad/concepts/d4aca031-508f-4e0b-b493-e7b706120f81) at the end of the CNN lesson is a solid starting point. You'll have to change the number of classes and possibly the preprocessing, but aside from that it's plug and play! \n",
    "\n",
    "With the LeNet-5 solution from the lecture, you should expect a validation set accuracy of about 0.89. To meet specifications, the validation set accuracy will need to be at least 0.93. It is possible to get an even higher accuracy, but 0.93 is the minimum for a successful project submission. \n",
    "\n",
    "There are various aspects to consider when thinking about this problem:\n",
    "\n",
    "- Neural network architecture (is the network over or underfitting?)\n",
    "- Play around preprocessing techniques (normalization, rgb to grayscale, etc)\n",
    "- Number of examples per label (some have more than others).\n",
    "- Generate fake data.\n",
    "\n",
    "Here is an example of a [published baseline model on this problem](http://yann.lecun.com/exdb/publis/pdf/sermanet-ijcnn-11.pdf). It's not required to be familiar with the approach used in the paper but, it's good practice to try to read papers like these."
   ]
  },
  {
   "cell_type": "markdown",
   "metadata": {},
   "source": [
    "### Pre-process the Data Set (normalization, grayscale, etc.)"
   ]
  },
  {
   "cell_type": "markdown",
   "metadata": {},
   "source": [
    "Minimally, the image data should be normalized so that the data has mean zero and equal variance. For image data, `(pixel - 128)/ 128` is a quick way to approximately normalize the data and can be used in this project. \n",
    "\n",
    "Other pre-processing steps are optional. You can try different techniques to see if it improves performance. \n",
    "\n",
    "Use the code cell (or multiple code cells, if necessary) to implement the first step of your project."
   ]
  },
  {
   "cell_type": "code",
   "execution_count": 6,
   "metadata": {},
   "outputs": [],
   "source": [
    "import csv\n",
    "\n",
    "with open('signnames.csv') as f:\n",
    "    sign_names = dict(filter(None, csv.reader(f)))\n"
   ]
  },
  {
   "cell_type": "code",
   "execution_count": 7,
   "metadata": {},
   "outputs": [
    {
     "name": "stdout",
     "output_type": "stream",
     "text": [
      "X_train converted to grayscale\n",
      "X_validation converted to grayscale\n",
      "X_test converted to grayscale\n",
      "31\n"
     ]
    },
    {
     "data": {
      "image/png": "[encoded data removed]",
      "text/plain": [
       "<matplotlib.figure.Figure at 0x12301c40208>"
      ]
     },
     "metadata": {},
     "output_type": "display_data"
    }
   ],
   "source": [
    "### Preprocess the data here. It is required to normalize the data. Other preprocessing steps could include \n",
    "### converting to grayscale, etc.\n",
    "### Feel free to use as many code cells as needed.\n",
    "\n",
    "# convert to grayscale if it is color\n",
    "if X_train.shape[3] == 3:\n",
    "    X_train_gray = np.mean(X_train, axis=-1, keepdims=True)\n",
    "    X_train = X_train_gray\n",
    "    print(\"X_train converted to grayscale\")\n",
    "    \n",
    "if X_validation.shape[3] == 3:\n",
    "    X_validation_gray = np.mean(X_validation, axis=-1, keepdims=True)\n",
    "    X_validation = X_validation_gray\n",
    "    print(\"X_validation converted to grayscale\")\n",
    "    \n",
    "if X_test.shape[3] == 3:\n",
    "    X_test_gray = np.mean(X_test, axis=-1, keepdims=True)\n",
    "    X_test = X_test_gray\n",
    "    print(\"X_test converted to grayscale\")\n",
    "\n",
    "\n",
    "# Gray scale the images\n",
    "#for idx in range(X_train.shape[0]):\n",
    "image = X_train[index]\n",
    "bw = image\n",
    "\n",
    "%matplotlib inline\n",
    "\n",
    "plt.figure(figsize=(1,1))\n",
    "plt.imshow(bw.squeeze(), cmap='gray')\n",
    "print(y_train[index])\n",
    "\n",
    "# Now normalize the data\n",
    "X_train = (X_train-128)/128\n",
    "X_validation = (X_validation-128)/128\n",
    "X_test = (X_test-128)/128"
   ]
  },
  {
   "cell_type": "markdown",
   "metadata": {},
   "source": [
    "### Model Architecture"
   ]
  },
  {
   "cell_type": "code",
   "execution_count": 8,
   "metadata": {},
   "outputs": [],
   "source": [
    "import tensorflow as tf\n",
    "from tensorflow.contrib.layers import flatten\n",
    "\n",
    "## PREPARE THE DATA\n",
    "\n",
    "num_color_channels = X_train.shape[3]\n",
    "\n",
    "x = tf.placeholder(tf.float32, (None, 32, 32, num_color_channels), name='x_in')\n",
    "y = tf.placeholder(tf.int32, (None), name='y_in')\n",
    "one_hot_y = tf.one_hot(y, 43)\n",
    "\n",
    "keep_prob_c1  = tf.placeholder(dtype=tf.float32, name='keep_prob_c1')\n",
    "keep_prob_c2  = tf.placeholder(dtype=tf.float32, name='keep_prob_c2')\n",
    "keep_prob_c3  = tf.placeholder(dtype=tf.float32, name='keep_prob_c3')\n",
    "keep_prob_fc1 = tf.placeholder(dtype=tf.float32, name='keep_prob_fc1')\n",
    "keep_prob_fc2 = tf.placeholder(dtype=tf.float32, name='keep_prob_fc2')\n",
    "keep_prob_fc3 = tf.placeholder(dtype=tf.float32, name='keep_prob_fc3')"
   ]
  },
  {
   "cell_type": "code",
   "execution_count": 9,
   "metadata": {
    "collapsed": true
   },
   "outputs": [],
   "source": [
    "### Define your architecture here.\n",
    "### Feel free to use as many code cells as needed.\n",
    "\n",
    "#def LeNet(x):    \n",
    "# Arguments used for tf.truncated_normal, randomly defines variables for the weights and biases for each layer\n",
    "mu = 0\n",
    "sigma = 0.05\n",
    "\n",
    "color_channels = 1# = x.shape[3]\n",
    "\n",
    "# Layer 1: Convolutional. Input = 32x32x1. Output = 28x28x6.\n",
    "conv1_W = tf.Variable(tf.truncated_normal(shape=(5, 5, color_channels, 6), mean = mu, stddev = sigma), name='con1_w')\n",
    "conv1_b = tf.Variable(tf.zeros(6), name='con1_b')\n",
    "conv1   = tf.nn.conv2d(x, conv1_W, strides=[1, 1, 1, 1], padding='VALID') + conv1_b\n",
    "\n",
    "# Activation.\n",
    "conv1R = tf.nn.relu(conv1)\n",
    "\n",
    "# Pooling. Input = 28x28x6. Output = 14x14x6.\n",
    "conv1Pool = tf.nn.max_pool(conv1R, ksize=[1, 2, 2, 1], strides=[1, 2, 2, 1], padding='VALID', name='conv1Pool')\n",
    "\n",
    "# Layer 2: Convolutional. Output = 10x10x16.\n",
    "conv2_W = tf.Variable(tf.truncated_normal(shape=(5, 5, 6, 16), mean = mu, stddev = sigma), name='con2_w')\n",
    "conv2_b = tf.Variable(tf.zeros(16), name='con2_b')\n",
    "conv2   = tf.nn.conv2d(conv1Pool, conv2_W, strides=[1, 1, 1, 1], padding='VALID') + conv2_b\n",
    "\n",
    "# Activation.\n",
    "conv2R = tf.nn.relu(conv2)\n",
    "\n",
    "# Pooling. Input = 10x10x16. Output = 5x5x16.\n",
    "conv2Pool = tf.nn.max_pool(conv2R, ksize=[1, 2, 2, 1], strides=[1, 2, 2, 1], padding='VALID', name='conv2Pool')\n",
    "\n",
    "# Flatten. Input = 5x5x16. Output = 400.\n",
    "fc0   = flatten(conv2Pool)\n",
    "\n",
    "fc0 = tf.nn.dropout(fc0, keep_prob_fc1)\n",
    "\n",
    "# Layer 3: Fully Connected. Input = 400. Output = 120.\n",
    "fc1_W = tf.Variable(tf.truncated_normal(shape=(400, 200), mean = mu, stddev = sigma), name='fc1_w')\n",
    "fc1_b = tf.Variable(tf.zeros(200), name='fc1_b')\n",
    "fc1   = tf.matmul(fc0, fc1_W) + fc1_b\n",
    "\n",
    "# Activation.\n",
    "fc1    = tf.nn.relu(fc1)\n",
    "\n",
    "fc1 = tf.nn.dropout(fc1, keep_prob_fc2)\n",
    "\n",
    "# Layer 4: Fully Connected. Input = 120. Output = 84.\n",
    "fc2_W  = tf.Variable(tf.truncated_normal(shape=(200, 84), mean = mu, stddev = sigma), name='fc2_w')\n",
    "fc2_b  = tf.Variable(tf.zeros(84), name='fc2_b')\n",
    "fc2    = tf.matmul(fc1, fc2_W) + fc2_b\n",
    "\n",
    "# Activation.\n",
    "fc2    = tf.nn.relu(fc2)\n",
    "\n",
    "#fc2 = tf.nn.dropout(fc2, keep_prob_fc3)\n",
    "\n",
    "# Layer 5: Fully Connected. Input = 84. Output = 10.\n",
    "fc3_W  = tf.Variable(tf.truncated_normal(shape=(84, 43), mean = mu, stddev = sigma), name='fc3_w')\n",
    "fc3_b  = tf.Variable(tf.zeros(43), name='fc3_b')\n",
    "logits = tf.matmul(fc2, fc3_W) + fc3_b\n",
    "\n",
    "#return logits"
   ]
  },
  {
   "cell_type": "markdown",
   "metadata": {},
   "source": [
    "### Train, Validate and Test the Model"
   ]
  },
  {
   "cell_type": "markdown",
   "metadata": {},
   "source": [
    "A validation set can be used to assess how well the model is performing. A low accuracy on the training and validation\n",
    "sets imply underfitting. A high accuracy on the training set but low accuracy on the validation set implies overfitting."
   ]
  },
  {
   "cell_type": "code",
   "execution_count": 10,
   "metadata": {},
   "outputs": [],
   "source": [
    "## Training pipeline\n",
    "\n",
    "### Train your model here.\n",
    "EPOCHS = 50\n",
    "BATCH_SIZE = 64\n",
    "\n",
    "rate = 0.001\n",
    "\n",
    "keepRateC1 = .7 # dropout rate\n",
    "keepRateC2 = .7 # dropout rate\n",
    "keepRateC3 = .7 # dropout rate\n",
    "keepRateFC1 = .5 # dropout rate\n",
    "keepRateFC2 = .5 # dropout rate\n",
    "keepRateFC3 = .5 # dropout rate\n",
    "\n",
    "#logits = LeNet(x)\n",
    "cross_entropy = tf.nn.softmax_cross_entropy_with_logits(labels=one_hot_y, logits=logits)\n",
    "loss_operation = tf.reduce_mean(cross_entropy)\n",
    "optimizer = tf.train.AdamOptimizer(learning_rate = rate)\n",
    "training_operation = optimizer.minimize(loss_operation)\n",
    "\n",
    "\n",
    "### Calculate and report the accuracy on the training and validation set.\n",
    "### Once a final model architecture is selected, \n",
    "### the accuracy on the test set should be calculated and reported as well.\n",
    "### Feel free to use as many code cells as needed."
   ]
  },
  {
   "cell_type": "code",
   "execution_count": 11,
   "metadata": {
    "collapsed": true
   },
   "outputs": [],
   "source": [
    "# Evaluate how well the loss and accuracy of the model for a given dataset.\n",
    "\n",
    "correct_prediction = tf.equal(tf.argmax(logits, 1), tf.argmax(one_hot_y, 1))\n",
    "accuracy_operation = tf.reduce_mean(tf.cast(correct_prediction, tf.float32))\n",
    "saver = tf.train.Saver()\n",
    "\n",
    "def evaluate(X_data, y_data):\n",
    "    num_examples = len(X_data)\n",
    "    total_accuracy = 0\n",
    "    total_loss = 0\n",
    "    sess = tf.get_default_session()\n",
    "    for offset in range(0, num_examples, BATCH_SIZE):\n",
    "        batch_x, batch_y = X_data[offset:offset+BATCH_SIZE], y_data[offset:offset+BATCH_SIZE]\n",
    "        accuracy, loss = sess.run([accuracy_operation, loss_operation], feed_dict={x: batch_x, y: batch_y, keep_prob_c1: 1.0, keep_prob_c2: 1.0, keep_prob_c3: 1.0, keep_prob_fc1: 1.0, keep_prob_fc2: 1.0, keep_prob_fc3: 1.0})\n",
    "        \n",
    "        total_loss += loss\n",
    "        \n",
    "        total_accuracy += (accuracy * len(batch_x))\n",
    "    return total_accuracy / num_examples, total_loss"
   ]
  },
  {
   "cell_type": "code",
   "execution_count": 12,
   "metadata": {
    "scrolled": false
   },
   "outputs": [
    {
     "name": "stdout",
     "output_type": "stream",
     "text": [
      "Training...\n",
      "(34799, 32, 32, 1)\n",
      "EPOCH 1 ...\n",
      "Validation Accuracy = 0.611\n",
      "Loss = 94.372\n",
      "\n",
      "EPOCH 2 ...\n",
      "Validation Accuracy = 0.790\n",
      "Loss = 49.102\n",
      "\n",
      "EPOCH 3 ...\n",
      "Validation Accuracy = 0.854\n",
      "Loss = 33.882\n",
      "\n",
      "EPOCH 4 ...\n",
      "Validation Accuracy = 0.884\n",
      "Loss = 27.711\n",
      "\n",
      "EPOCH 5 ...\n",
      "Validation Accuracy = 0.888\n",
      "Loss = 26.325\n",
      "\n",
      "EPOCH 6 ...\n",
      "Validation Accuracy = 0.902\n",
      "Loss = 21.999\n",
      "\n",
      "EPOCH 7 ...\n",
      "Validation Accuracy = 0.915\n",
      "Loss = 19.311\n",
      "\n",
      "EPOCH 8 ...\n",
      "Validation Accuracy = 0.918\n",
      "Loss = 18.377\n",
      "\n",
      "EPOCH 9 ...\n",
      "Validation Accuracy = 0.932\n",
      "Loss = 16.308\n",
      "\n",
      "EPOCH 10 ...\n",
      "Validation Accuracy = 0.939\n",
      "Loss = 14.676\n",
      "\n",
      "EPOCH 11 ...\n",
      "Validation Accuracy = 0.937\n",
      "Loss = 15.877\n",
      "\n",
      "EPOCH 12 ...\n",
      "Validation Accuracy = 0.936\n",
      "Loss = 15.046\n",
      "\n",
      "EPOCH 13 ...\n",
      "Validation Accuracy = 0.949\n",
      "Loss = 12.457\n",
      "\n",
      "EPOCH 14 ...\n",
      "Validation Accuracy = 0.943\n",
      "Loss = 12.624\n",
      "\n",
      "EPOCH 15 ...\n",
      "Validation Accuracy = 0.945\n",
      "Loss = 13.528\n",
      "\n",
      "EPOCH 16 ...\n",
      "Validation Accuracy = 0.942\n",
      "Loss = 13.881\n",
      "\n",
      "EPOCH 17 ...\n",
      "Validation Accuracy = 0.946\n",
      "Loss = 12.515\n",
      "\n",
      "EPOCH 18 ...\n",
      "Validation Accuracy = 0.948\n",
      "Loss = 12.617\n",
      "\n",
      "EPOCH 19 ...\n",
      "Validation Accuracy = 0.944\n",
      "Loss = 12.911\n",
      "\n",
      "EPOCH 20 ...\n",
      "Validation Accuracy = 0.950\n",
      "Loss = 11.715\n",
      "\n",
      "EPOCH 21 ...\n",
      "Validation Accuracy = 0.948\n",
      "Loss = 12.799\n",
      "\n",
      "EPOCH 22 ...\n",
      "Validation Accuracy = 0.949\n",
      "Loss = 12.010\n",
      "\n",
      "EPOCH 23 ...\n",
      "Validation Accuracy = 0.955\n",
      "Loss = 10.699\n",
      "\n",
      "EPOCH 24 ...\n",
      "Validation Accuracy = 0.948\n",
      "Loss = 12.283\n",
      "\n",
      "EPOCH 25 ...\n",
      "Validation Accuracy = 0.959\n",
      "Loss = 10.266\n",
      "\n",
      "EPOCH 26 ...\n",
      "Validation Accuracy = 0.959\n",
      "Loss = 10.049\n",
      "\n",
      "EPOCH 27 ...\n",
      "Validation Accuracy = 0.958\n",
      "Loss = 10.504\n",
      "\n",
      "EPOCH 28 ...\n",
      "Validation Accuracy = 0.955\n",
      "Loss = 10.784\n",
      "\n",
      "EPOCH 29 ...\n",
      "Validation Accuracy = 0.954\n",
      "Loss = 11.205\n",
      "\n",
      "EPOCH 30 ...\n",
      "Validation Accuracy = 0.959\n",
      "Loss = 9.806\n",
      "\n",
      "EPOCH 31 ...\n",
      "Validation Accuracy = 0.956\n",
      "Loss = 10.474\n",
      "\n",
      "EPOCH 32 ...\n",
      "Validation Accuracy = 0.958\n",
      "Loss = 10.014\n",
      "\n",
      "EPOCH 33 ...\n",
      "Validation Accuracy = 0.961\n",
      "Loss = 9.581\n",
      "\n",
      "EPOCH 34 ...\n",
      "Validation Accuracy = 0.959\n",
      "Loss = 9.802\n",
      "\n",
      "EPOCH 35 ...\n",
      "Validation Accuracy = 0.956\n",
      "Loss = 10.108\n",
      "\n",
      "EPOCH 36 ...\n",
      "Validation Accuracy = 0.957\n",
      "Loss = 10.254\n",
      "\n",
      "EPOCH 37 ...\n",
      "Validation Accuracy = 0.959\n",
      "Loss = 9.557\n",
      "\n",
      "EPOCH 38 ...\n",
      "Validation Accuracy = 0.954\n",
      "Loss = 10.950\n",
      "\n",
      "EPOCH 39 ...\n",
      "Validation Accuracy = 0.958\n",
      "Loss = 10.488\n",
      "\n",
      "EPOCH 40 ...\n",
      "Validation Accuracy = 0.947\n",
      "Loss = 12.510\n",
      "\n",
      "EPOCH 41 ...\n",
      "Validation Accuracy = 0.959\n",
      "Loss = 9.576\n",
      "\n",
      "EPOCH 42 ...\n",
      "Validation Accuracy = 0.958\n",
      "Loss = 10.060\n",
      "\n",
      "EPOCH 43 ...\n",
      "Validation Accuracy = 0.958\n",
      "Loss = 9.883\n",
      "\n",
      "EPOCH 44 ...\n",
      "Validation Accuracy = 0.960\n",
      "Loss = 9.609\n",
      "\n",
      "EPOCH 45 ...\n",
      "Validation Accuracy = 0.959\n",
      "Loss = 9.527\n",
      "\n",
      "EPOCH 46 ...\n",
      "Validation Accuracy = 0.963\n",
      "Loss = 9.477\n",
      "\n",
      "EPOCH 47 ...\n",
      "Validation Accuracy = 0.960\n",
      "Loss = 9.632\n",
      "\n",
      "EPOCH 48 ...\n",
      "Validation Accuracy = 0.957\n",
      "Loss = 10.147\n",
      "\n",
      "EPOCH 49 ...\n",
      "Validation Accuracy = 0.956\n",
      "Loss = 10.379\n",
      "\n",
      "EPOCH 50 ...\n",
      "Validation Accuracy = 0.964\n",
      "Loss = 9.177\n",
      "\n",
      "Model saved\n"
     ]
    }
   ],
   "source": [
    "# TRAIN THE MODEL\n",
    "\n",
    "from sklearn.utils import shuffle\n",
    "\n",
    "with tf.Session() as sess:\n",
    "    sess.run(tf.global_variables_initializer())\n",
    "    num_examples = len(X_train)\n",
    "    \n",
    "    print(\"Training...\")\n",
    "    print(X_train.shape)\n",
    "    for i in range(EPOCHS):\n",
    "        X_train, y_train = shuffle(X_train, y_train)\n",
    "        for offset in range(0, num_examples, BATCH_SIZE):\n",
    "            end = offset + BATCH_SIZE\n",
    "            batch_x, batch_y = X_train[offset:end], y_train[offset:end]\n",
    "            sess.run(training_operation, feed_dict={x: batch_x, y: batch_y, keep_prob_c1: keepRateC1, keep_prob_c2: keepRateC2, keep_prob_c3: keepRateC3, keep_prob_fc1: keepRateFC1, keep_prob_fc2: keepRateFC2, keep_prob_fc3: keepRateFC3})\n",
    "            \n",
    "        validation_accuracy, loss = evaluate(X_validation, y_validation)\n",
    "        print(\"EPOCH {} ...\".format(i+1))\n",
    "        print(\"Validation Accuracy = {:.3f}\".format(validation_accuracy))\n",
    "        print(\"Loss = {:.3f}\".format(loss))\n",
    "        print()\n",
    "        \n",
    "    saver.save(sess, './lenet')\n",
    "    print(\"Model saved\")"
   ]
  },
  {
   "cell_type": "code",
   "execution_count": 13,
   "metadata": {},
   "outputs": [
    {
     "name": "stdout",
     "output_type": "stream",
     "text": [
      "INFO:tensorflow:Restoring parameters from .\\lenet\n",
      "Test Accuracy = 0.942\n"
     ]
    }
   ],
   "source": [
    "# EVALUATE THE MODEL\n",
    "\n",
    "with tf.Session() as sess:\n",
    "    saver.restore(sess, tf.train.latest_checkpoint('.'))\n",
    "\n",
    "    test_accuracy, _ = evaluate(X_test, y_test)\n",
    "    print(\"Test Accuracy = {:.3f}\".format(test_accuracy))"
   ]
  },
  {
   "cell_type": "markdown",
   "metadata": {},
   "source": [
    "---\n",
    "\n",
    "## Step 3: Test a Model on New Images\n",
    "\n",
    "To give yourself more insight into how your model is working, download at least five pictures of German traffic signs from the web and use your model to predict the traffic sign type.\n",
    "\n",
    "You may find `signnames.csv` useful as it contains mappings from the class id (integer) to the actual sign name."
   ]
  },
  {
   "cell_type": "markdown",
   "metadata": {},
   "source": [
    "### Load and Output the Images"
   ]
  },
  {
   "cell_type": "code",
   "execution_count": 14,
   "metadata": {},
   "outputs": [
    {
     "data": {
      "image/png": "[encoded data removed]",
      "text/plain": [
       "<matplotlib.figure.Figure at 0x123370fd978>"
      ]
     },
     "metadata": {},
     "output_type": "display_data"
    },
    {
     "data": {
      "image/png": "[encoded data removed]",
      "text/plain": [
       "<matplotlib.figure.Figure at 0x123b1475e80>"
      ]
     },
     "metadata": {},
     "output_type": "display_data"
    },
    {
     "data": {
      "image/png": "[encoded data removed]",
      "text/plain": [
       "<matplotlib.figure.Figure at 0x123afd722b0>"
      ]
     },
     "metadata": {},
     "output_type": "display_data"
    },
    {
     "data": {
      "image/png": "[encoded data removed]",
      "text/plain": [
       "<matplotlib.figure.Figure at 0x1233a0d7f28>"
      ]
     },
     "metadata": {},
     "output_type": "display_data"
    },
    {
     "data": {
      "image/png": "[encoded data removed]",
      "text/plain": [
       "<matplotlib.figure.Figure at 0x12337262320>"
      ]
     },
     "metadata": {},
     "output_type": "display_data"
    }
   ],
   "source": [
    "from PIL import Image\n",
    "\n",
    "### Load the images and plot them here.\n",
    "### Feel free to use as many code cells as needed.\n",
    "\n",
    "filelist = 'web_images/web1.jpg', 'web_images/web2.jpg', 'web_images/web3.jpg', 'web_images/web4.jpg', 'web_images/web5.jpg'\n",
    "X_web_original = np.array([np.array(Image.open(fname)) for fname in filelist])\n",
    "\n",
    "Y_web = np.array([4,11,17,13,25]) # list of correct answers for each image respectively\n",
    "\n",
    "%matplotlib inline\n",
    "                  \n",
    "for idx in range(X_web_original.shape[0]):\n",
    "    image = X_web_original[idx].squeeze()\n",
    "\n",
    "    plt.figure(figsize=(1,1))\n",
    "    plt.imshow(image)\n",
    "    \n",
    "X_web = X_web_original"
   ]
  },
  {
   "cell_type": "markdown",
   "metadata": {},
   "source": [
    "### Predict the Sign Type for Each Image"
   ]
  },
  {
   "cell_type": "code",
   "execution_count": 15,
   "metadata": {},
   "outputs": [
    {
     "name": "stdout",
     "output_type": "stream",
     "text": [
      "(5, 32, 32, 1)\n",
      "X_web converted to grayscale\n"
     ]
    }
   ],
   "source": [
    "### Run the predictions here and use the model to output the prediction for each image.\n",
    "### Make sure to pre-process the images with the same pre-processing pipeline used earlier.\n",
    "### Feel free to use as many code cells as needed.\n",
    "\n",
    "# convert to grayscale if it is color\n",
    "if X_web.shape[3] == 3:\n",
    "    X_web_gray = np.mean(X_web, axis=-1, keepdims=True)\n",
    "    X_web = X_web_gray\n",
    "    print(X_web.shape)\n",
    "    print(\"X_web converted to grayscale\")\n",
    "    \n",
    "# Now normalize the data\n",
    "X_web = (X_web-128)/128"
   ]
  },
  {
   "cell_type": "code",
   "execution_count": 16,
   "metadata": {
    "collapsed": true
   },
   "outputs": [],
   "source": [
    "def make_prediction(image):\n",
    "\n",
    "    prediction = tf.argmax(logits, 1)\n",
    "\n",
    "    with tf.Session() as sess:\n",
    "        saver.restore(sess, tf.train.latest_checkpoint('.'))\n",
    "        \n",
    "        image = image.reshape(-1, 32, 32, 1)\n",
    "\n",
    "        result = sess.run(prediction, feed_dict={x: image, keep_prob_c1: 1.0, keep_prob_c2: 1.0, keep_prob_c3: 1.0, keep_prob_fc1: 1.0, keep_prob_fc2: 1.0, keep_prob_fc3: 1.0})\n",
    "        \n",
    "        return result"
   ]
  },
  {
   "cell_type": "code",
   "execution_count": 17,
   "metadata": {
    "scrolled": true
   },
   "outputs": [
    {
     "name": "stdout",
     "output_type": "stream",
     "text": [
      "INFO:tensorflow:Restoring parameters from .\\lenet\n",
      "correct = [4] Speed limit (70km/h), answer = 4 Speed limit (70km/h)\n",
      "INFO:tensorflow:Restoring parameters from .\\lenet\n",
      "correct = [11] Right-of-way at the next intersection, answer = 11 Right-of-way at the next intersection\n",
      "INFO:tensorflow:Restoring parameters from .\\lenet\n",
      "correct = [17] No entry, answer = 17 No entry\n",
      "INFO:tensorflow:Restoring parameters from .\\lenet\n",
      "correct = [13] Yield, answer = 13 Yield\n",
      "INFO:tensorflow:Restoring parameters from .\\lenet\n",
      "correct = [25] Road work, answer = 25 Road work\n"
     ]
    }
   ],
   "source": [
    "#loop through each picture and make a prediction\n",
    "\n",
    "for idx in range(X_web.shape[0]):\n",
    "    ans = make_prediction(X_web[idx])\n",
    "    \n",
    "    print(\"correct = \" + str(ans) + \" \" + sign_names[str(ans[0])] + \", answer = \" + str(Y_web[idx]) + \" \" + sign_names[str(Y_web[idx])])"
   ]
  },
  {
   "cell_type": "markdown",
   "metadata": {},
   "source": [
    "### Analyze Performance"
   ]
  },
  {
   "cell_type": "code",
   "execution_count": 18,
   "metadata": {},
   "outputs": [
    {
     "name": "stdout",
     "output_type": "stream",
     "text": [
      "INFO:tensorflow:Restoring parameters from .\\lenet\n",
      "correct = [4] Speed limit (70km/h), answer = 4 Speed limit (70km/h)\n",
      "INFO:tensorflow:Restoring parameters from .\\lenet\n",
      "correct = [11] Right-of-way at the next intersection, answer = 11 Right-of-way at the next intersection\n",
      "INFO:tensorflow:Restoring parameters from .\\lenet\n",
      "correct = [17] No entry, answer = 17 No entry\n",
      "INFO:tensorflow:Restoring parameters from .\\lenet\n",
      "correct = [13] Yield, answer = 13 Yield\n",
      "INFO:tensorflow:Restoring parameters from .\\lenet\n",
      "correct = [25] Road work, answer = 25 Road work\n",
      "Accuracy: 100.0% correct on this new image set.\n"
     ]
    }
   ],
   "source": [
    "### Calculate the accuracy for these 5 new images. \n",
    "### For example, if the model predicted 1 out of 5 signs correctly, it's 20% accurate on these new images.\n",
    "\n",
    "correct = 0\n",
    "\n",
    "for idx in range(X_web.shape[0]):\n",
    "    ans = make_prediction(X_web[idx])\n",
    "    \n",
    "    if ans == Y_web[idx]:\n",
    "        correct += 1\n",
    "        \n",
    "    print(\"correct = \" + str(ans) + \" \" + sign_names[str(ans[0])] + \", answer = \" + str(Y_web[idx]) + \" \" + sign_names[str(Y_web[idx])])\n",
    "        \n",
    "percent_correct = (correct / Y_web.shape[0]) * 100.0\n",
    "\n",
    "print(\"Accuracy: \" + str(percent_correct) + \"% correct on this new image set.\")"
   ]
  },
  {
   "cell_type": "markdown",
   "metadata": {},
   "source": [
    "### Output Top 5 Softmax Probabilities For Each Image Found on the Web"
   ]
  },
  {
   "cell_type": "markdown",
   "metadata": {},
   "source": [
    "For each of the new images, print out the model's softmax probabilities to show the **certainty** of the model's predictions (limit the output to the top 5 probabilities for each image). [`tf.nn.top_k`](https://www.tensorflow.org/versions/r0.12/api_docs/python/nn.html#top_k) could prove helpful here. \n",
    "\n",
    "The example below demonstrates how tf.nn.top_k can be used to find the top k predictions for each image.\n",
    "\n",
    "`tf.nn.top_k` will return the values and indices (class ids) of the top k predictions. So if k=3, for each sign, it'll return the 3 largest probabilities (out of a possible 43) and the correspoding class ids.\n",
    "\n",
    "Take this numpy array as an example. The values in the array represent predictions. The array contains softmax probabilities for five candidate images with six possible classes. `tf.nn.top_k` is used to choose the three classes with the highest probability:\n",
    "\n",
    "```\n",
    "# (5, 6) array\n",
    "a = np.array([[ 0.24879643,  0.07032244,  0.12641572,  0.34763842,  0.07893497,\n",
    "         0.12789202],\n",
    "       [ 0.28086119,  0.27569815,  0.08594638,  0.0178669 ,  0.18063401,\n",
    "         0.15899337],\n",
    "       [ 0.26076848,  0.23664738,  0.08020603,  0.07001922,  0.1134371 ,\n",
    "         0.23892179],\n",
    "       [ 0.11943333,  0.29198961,  0.02605103,  0.26234032,  0.1351348 ,\n",
    "         0.16505091],\n",
    "       [ 0.09561176,  0.34396535,  0.0643941 ,  0.16240774,  0.24206137,\n",
    "         0.09155967]])\n",
    "```\n",
    "\n",
    "Running it through `sess.run(tf.nn.top_k(tf.constant(a), k=3))` produces:\n",
    "\n",
    "```\n",
    "TopKV2(values=array([[ 0.34763842,  0.24879643,  0.12789202],\n",
    "       [ 0.28086119,  0.27569815,  0.18063401],\n",
    "       [ 0.26076848,  0.23892179,  0.23664738],\n",
    "       [ 0.29198961,  0.26234032,  0.16505091],\n",
    "       [ 0.34396535,  0.24206137,  0.16240774]]), indices=array([[3, 0, 5],\n",
    "       [0, 1, 4],\n",
    "       [0, 5, 1],\n",
    "       [1, 3, 5],\n",
    "       [1, 4, 3]], dtype=int32))\n",
    "```\n",
    "\n",
    "Looking just at the first row we get `[ 0.34763842,  0.24879643,  0.12789202]`, you can confirm these are the 3 largest probabilities in `a`. You'll also notice `[3, 0, 5]` are the corresponding indices."
   ]
  },
  {
   "cell_type": "code",
   "execution_count": 19,
   "metadata": {},
   "outputs": [],
   "source": [
    "import matplotlib.pyplot as plt\n",
    "\n",
    "%matplotlib inline\n",
    "\n",
    "def plot_chart(target_image, values_to_plot, labels):\n",
    "    \n",
    "    plt.figure()\n",
    "    \n",
    "    f, axarr = plt.subplots(1,2)\n",
    "    axarr[0].imshow(target_image.squeeze())\n",
    "    \n",
    "   \n",
    "    val = values_to_plot*100 # the bar lengths\n",
    "    pos = np.arange(5)+.5    # the bar centers on the y axis\n",
    "\n",
    "    axarr[1].barh(pos,val, align='center')\n",
    "    plt.yticks(pos, labels)\n",
    "    plt.xlabel('Probability')\n",
    "    plt.title('Top 5 Predictions')\n",
    "    axarr[1].grid(True)\n",
    "    \n",
    "    plt.tight_layout()\n",
    "\n",
    "    plt.show()"
   ]
  },
  {
   "cell_type": "code",
   "execution_count": 20,
   "metadata": {
    "collapsed": true
   },
   "outputs": [],
   "source": [
    "### Print out the top five softmax probabilities for the predictions on the German traffic sign images found on the web. \n",
    "### Feel free to use as many code cells as needed.\n",
    "\n",
    "def top5_softmax(image):\n",
    "\n",
    "    top5 = tf.nn.top_k(tf.nn.softmax(logits), k=5)\n",
    "    \n",
    "    with tf.Session() as sess:\n",
    "        saver.restore(sess, tf.train.latest_checkpoint('.'))\n",
    "\n",
    "        image = image.reshape(-1, 32, 32, 1)\n",
    "\n",
    "        result = sess.run(top5, feed_dict={x: image, keep_prob_c1: 1.0, keep_prob_c2: 1.0, keep_prob_c3: 1.0, keep_prob_fc1: 1.0, keep_prob_fc2: 1.0, keep_prob_fc3: 1.0})\n",
    "        \n",
    "        return result"
   ]
  },
  {
   "cell_type": "code",
   "execution_count": 21,
   "metadata": {
    "scrolled": false
   },
   "outputs": [
    {
     "name": "stdout",
     "output_type": "stream",
     "text": [
      "INFO:tensorflow:Restoring parameters from .\\lenet\n"
     ]
    },
    {
     "data": {
      "text/plain": [
       "<matplotlib.figure.Figure at 0x1232cc40320>"
      ]
     },
     "metadata": {},
     "output_type": "display_data"
    },
    {
     "data": {
      "image/png": "[encoded data removed]",
      "text/plain": [
       "<matplotlib.figure.Figure at 0x1233721c9b0>"
      ]
     },
     "metadata": {},
     "output_type": "display_data"
    },
    {
     "name": "stdout",
     "output_type": "stream",
     "text": [
      "We got the answer: CORRECT!\n",
      "\n",
      "target ans = 4 our answer was: TopKV2(values=array([[  9.98630941e-01,   6.48495043e-04,   5.62402303e-04,\n",
      "          8.46511539e-05,   4.34957146e-05]], dtype=float32), indices=array([[ 4,  0,  1, 26, 18]]))\n",
      "\n",
      "INFO:tensorflow:Restoring parameters from .\\lenet\n"
     ]
    },
    {
     "data": {
      "text/plain": [
       "<matplotlib.figure.Figure at 0x12337233b38>"
      ]
     },
     "metadata": {},
     "output_type": "display_data"
    },
    {
     "data": {
      "image/png": "[encoded data removed]",
      "text/plain": [
       "<matplotlib.figure.Figure at 0x123375e35f8>"
      ]
     },
     "metadata": {},
     "output_type": "display_data"
    },
    {
     "name": "stdout",
     "output_type": "stream",
     "text": [
      "We got the answer: CORRECT!\n",
      "\n",
      "target ans = 11 our answer was: TopKV2(values=array([[  9.99972582e-01,   2.71154113e-05,   2.87116109e-07,\n",
      "          1.08935531e-07,   2.15854197e-08]], dtype=float32), indices=array([[11, 30, 27, 23, 28]]))\n",
      "\n",
      "INFO:tensorflow:Restoring parameters from .\\lenet\n"
     ]
    },
    {
     "data": {
      "text/plain": [
       "<matplotlib.figure.Figure at 0x123b14992b0>"
      ]
     },
     "metadata": {},
     "output_type": "display_data"
    },
    {
     "data": {
      "image/png": "[encoded data removed]",
      "text/plain": [
       "<matplotlib.figure.Figure at 0x123afd6b6d8>"
      ]
     },
     "metadata": {},
     "output_type": "display_data"
    },
    {
     "name": "stdout",
     "output_type": "stream",
     "text": [
      "We got the answer: CORRECT!\n",
      "\n",
      "target ans = 17 our answer was: TopKV2(values=array([[  1.00000000e+00,   9.75613190e-09,   9.54705204e-09,\n",
      "          3.36300365e-09,   1.72122239e-09]], dtype=float32), indices=array([[17,  9, 12, 34, 33]]))\n",
      "\n",
      "INFO:tensorflow:Restoring parameters from .\\lenet\n"
     ]
    },
    {
     "data": {
      "text/plain": [
       "<matplotlib.figure.Figure at 0x1233a0ccc18>"
      ]
     },
     "metadata": {},
     "output_type": "display_data"
    },
    {
     "data": {
      "image/png": "[encoded data removed]",
      "text/plain": [
       "<matplotlib.figure.Figure at 0x12337243898>"
      ]
     },
     "metadata": {},
     "output_type": "display_data"
    },
    {
     "name": "stdout",
     "output_type": "stream",
     "text": [
      "We got the answer: CORRECT!\n",
      "\n",
      "target ans = 13 our answer was: TopKV2(values=array([[  1.00000000e+00,   8.05477850e-15,   5.98504693e-16,\n",
      "          2.19958455e-16,   5.35432720e-17]], dtype=float32), indices=array([[13, 35, 12, 39,  2]]))\n",
      "\n",
      "INFO:tensorflow:Restoring parameters from .\\lenet\n"
     ]
    },
    {
     "data": {
      "text/plain": [
       "<matplotlib.figure.Figure at 0x12337243048>"
      ]
     },
     "metadata": {},
     "output_type": "display_data"
    },
    {
     "data": {
      "image/png": "[encoded data removed]",
      "text/plain": [
       "<matplotlib.figure.Figure at 0x123b1424940>"
      ]
     },
     "metadata": {},
     "output_type": "display_data"
    },
    {
     "name": "stdout",
     "output_type": "stream",
     "text": [
      "We got the answer: CORRECT!\n",
      "\n",
      "target ans = 25 our answer was: TopKV2(values=array([[  9.85415757e-01,   9.94363613e-03,   2.62843166e-03,\n",
      "          6.44219457e-04,   3.09063791e-04]], dtype=float32), indices=array([[25, 22, 31, 34, 29]]))\n",
      "\n"
     ]
    }
   ],
   "source": [
    "for idx in range(X_web.shape[0]):\n",
    "    \n",
    "    result = top5_softmax(X_web[idx])\n",
    "    \n",
    "    labels = [sign_names[str(idx)] for idx in result.indices[0]]\n",
    "    \n",
    "    plot_chart(X_web_original[idx], result.values[0], labels)\n",
    "    \n",
    "    str_correctness = \"\"\n",
    "    \n",
    "    if Y_web[idx] == result.indices[0][0]:\n",
    "        str_correctness = \"CORRECT!\"\n",
    "    else:\n",
    "        str_correctness = \"INCORRECT\"\n",
    "    \n",
    "    print(\"We got the answer: \" + str_correctness)\n",
    "    print()\n",
    "    print(\"target ans = \" + str(Y_web[idx]) + \" our answer was: \" + str(result))\n",
    "    print()\n",
    "    "
   ]
  },
  {
   "cell_type": "markdown",
   "metadata": {},
   "source": [
    "### Project Writeup\n",
    "\n",
    "Once you have completed the code implementation, document your results in a project writeup using this [template](https://github.com/udacity/CarND-Traffic-Sign-Classifier-Project/blob/master/writeup_template.md) as a guide. The writeup can be in a markdown or pdf file. "
   ]
  },
  {
   "cell_type": "markdown",
   "metadata": {},
   "source": [
    "> **Note**: Once you have completed all of the code implementations and successfully answered each question above, you may finalize your work by exporting the iPython Notebook as an HTML document. You can do this by using the menu above and navigating to  \\n\",\n",
    "    \"**File -> Download as -> HTML (.html)**. Include the finished document along with this notebook as your submission."
   ]
  },
  {
   "cell_type": "markdown",
   "metadata": {},
   "source": [
    "---\n",
    "\n",
    "## Step 4 (Optional): Visualize the Neural Network's State with Test Images\n",
    "\n",
    " This Section is not required to complete but acts as an additional excersise for understaning the output of a neural network's weights. While neural networks can be a great learning device they are often referred to as a black box. We can understand what the weights of a neural network look like better by plotting their feature maps. After successfully training your neural network you can see what it's feature maps look like by plotting the output of the network's weight layers in response to a test stimuli image. From these plotted feature maps, it's possible to see what characteristics of an image the network finds interesting. For a sign, maybe the inner network feature maps react with high activation to the sign's boundary outline or to the contrast in the sign's painted symbol.\n",
    "\n",
    " Provided for you below is the function code that allows you to get the visualization output of any tensorflow weight layer you want. The inputs to the function should be a stimuli image, one used during training or a new one you provided, and then the tensorflow variable name that represents the layer's state during the training process, for instance if you wanted to see what the [LeNet lab's](https://classroom.udacity.com/nanodegrees/nd013/parts/fbf77062-5703-404e-b60c-95b78b2f3f9e/modules/6df7ae49-c61c-4bb2-a23e-6527e69209ec/lessons/601ae704-1035-4287-8b11-e2c2716217ad/concepts/d4aca031-508f-4e0b-b493-e7b706120f81) feature maps looked like for it's second convolutional layer you could enter conv2 as the tf_activation variable.\n",
    "\n",
    "For an example of what feature map outputs look like, check out NVIDIA's results in their paper [End-to-End Deep Learning for Self-Driving Cars](https://devblogs.nvidia.com/parallelforall/deep-learning-self-driving-cars/) in the section Visualization of internal CNN State. NVIDIA was able to show that their network's inner weights had high activations to road boundary lines by comparing feature maps from an image with a clear path to one without. Try experimenting with a similar test to show that your trained network's weights are looking for interesting features, whether it's looking at differences in feature maps from images with or without a sign, or even what feature maps look like in a trained network vs a completely untrained one on the same sign image.\n",
    "\n",
    "<figure>\n",
    " <img src=\"visualize_cnn.png\" width=\"380\" alt=\"Combined Image\" />\n",
    " <figcaption>\n",
    " <p></p> \n",
    " <p style=\"text-align: center;\"> Your output should look something like this (above)</p> \n",
    " </figcaption>\n",
    "</figure>\n",
    " <p></p> \n"
   ]
  },
  {
   "cell_type": "code",
   "execution_count": 22,
   "metadata": {
    "collapsed": true
   },
   "outputs": [],
   "source": [
    "### Visualize your network's feature maps here.\n",
    "### Feel free to use as many code cells as needed.\n",
    "\n",
    "# image_input: the test image being fed into the network to produce the feature maps\n",
    "# tf_activation: should be a tf variable name used during your training procedure that represents the calculated state of a specific weight layer\n",
    "# activation_min/max: can be used to view the activation contrast in more detail, by default matplot sets min and max to the actual min and max values of the output\n",
    "# plt_num: used to plot out multiple different weight feature map sets on the same block, just extend the plt number for each new feature map entry\n",
    "\n",
    "def outputFeatureMap(sess, image_input, tf_activation, activation_min=-1, activation_max=-1 ,plt_num=1):\n",
    "    # Here make sure to preprocess your image_input in a way your network expects\n",
    "    # with size, normalization, ect if needed\n",
    "    # image_input =\n",
    "    # Note: x should be the same name as your network's tensorflow data placeholder variable\n",
    "    # If you get an error tf_activation is not defined it may be having trouble accessing the variable from inside a function\n",
    "    print(tf_activation)\n",
    "    \n",
    "    activation = tf_activation.eval(session=sess,feed_dict={x : image_input})\n",
    "    featuremaps = activation.shape[3]\n",
    "    plt.figure(plt_num, figsize=(15,15))\n",
    "    for featuremap in range(featuremaps):\n",
    "        plt.subplot(6,8, featuremap+1) # sets the number of feature maps to show on each row and column\n",
    "        plt.title('FeatureMap ' + str(featuremap)) # displays the feature map number\n",
    "        if activation_min != -1 & activation_max != -1:\n",
    "            plt.imshow(activation[0,:,:, featuremap], interpolation=\"nearest\", vmin =activation_min, vmax=activation_max, cmap=\"gray\")\n",
    "        elif activation_max != -1:\n",
    "            plt.imshow(activation[0,:,:, featuremap], interpolation=\"nearest\", vmax=activation_max, cmap=\"gray\")\n",
    "        elif activation_min !=-1:\n",
    "            plt.imshow(activation[0,:,:, featuremap], interpolation=\"nearest\", vmin=activation_min, cmap=\"gray\")\n",
    "        else:\n",
    "            plt.imshow(activation[0,:,:, featuremap], interpolation=\"nearest\", cmap=\"gray\")"
   ]
  },
  {
   "cell_type": "code",
   "execution_count": 23,
   "metadata": {},
   "outputs": [
    {
     "name": "stdout",
     "output_type": "stream",
     "text": [
      "INFO:tensorflow:Restoring parameters from .\\lenet\n",
      "Tensor(\"add:0\", shape=(?, 28, 28, 6), dtype=float32)\n"
     ]
    },
    {
     "data": {
      "image/png": "[encoded data removed]",
      "text/plain": [
       "<matplotlib.figure.Figure at 0x12346cfc128>"
      ]
     },
     "metadata": {},
     "output_type": "display_data"
    }
   ],
   "source": [
    "with tf.Session() as sess:\n",
    "    saver.restore(sess, tf.train.latest_checkpoint('.'))\n",
    "    \n",
    "    image = X_web[3].reshape(-1, 32, 32, 1)\n",
    "    \n",
    "    result = sess.run(logits, feed_dict={x: image, keep_prob_c1: 1.0, keep_prob_c2: 1.0, keep_prob_c3: 1.0, keep_prob_fc1: 1.0, keep_prob_fc2: 1.0, keep_prob_fc3: 1.0})\n",
    "    \n",
    "    outputFeatureMap(sess, image, conv1)"
   ]
  },
  {
   "cell_type": "code",
   "execution_count": null,
   "metadata": {
    "collapsed": true
   },
   "outputs": [],
   "source": []
  },
  {
   "cell_type": "code",
   "execution_count": null,
   "metadata": {
    "collapsed": true
   },
   "outputs": [],
   "source": []
  }
 ],
 "metadata": {
  "anaconda-cloud": {},
  "kernelspec": {
   "display_name": "Python 3",
   "language": "python",
   "name": "python3"
  },
  "language_info": {
   "codemirror_mode": {
    "name": "ipython",
    "version": 3
   },
   "file_extension": ".py",
   "mimetype": "text/x-python",
   "name": "python",
   "nbconvert_exporter": "python",
   "pygments_lexer": "ipython3",
   "version": "3.5.2"
  },
  "widgets": {
   "state": {},
   "version": "1.1.2"
  }
 },
 "nbformat": 4,
 "nbformat_minor": 1
}
